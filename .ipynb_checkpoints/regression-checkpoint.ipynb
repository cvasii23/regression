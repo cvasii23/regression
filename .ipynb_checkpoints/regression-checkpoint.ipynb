{
 "metadata": {
  "name": "",
  "signature": "sha256:0d68873b07fa42ffb7ead1aa68f66305dd32fbdc78a2a31cc50da2645cd9e21a"
 },
 "nbformat": 3,
 "nbformat_minor": 0,
 "worksheets": [
  {
   "cells": [
    {
     "cell_type": "code",
     "collapsed": false,
     "input": [
      "from IPython.display import Image\n",
      "Image(url='https://www.python.org/static/community_logos/python-logo.png')"
     ],
     "language": "python",
     "metadata": {},
     "outputs": [
      {
       "html": [
        "<img src=\"https://www.python.org/static/community_logos/python-logo.png\"/>"
       ],
       "metadata": {},
       "output_type": "pyout",
       "prompt_number": 1,
       "text": [
        "<IPython.core.display.Image at 0x2c782f0>"
       ]
      }
     ],
     "prompt_number": 1
    },
    {
     "cell_type": "markdown",
     "metadata": {},
     "source": [
      "Regresie liniar\u0103 \u00een mai multe variabile \u015fi reducerea dimensiunii datelor prin PCA"
     ]
    },
    {
     "cell_type": "markdown",
     "metadata": {},
     "source": [
      "Datele sunt luate din tema de la cursul de machine learning al lui Andrew Ng de pe coursera.org. Sunt cititie din fi\u015fierul extern ex1datam2.txt \u00eentr-o matrice $A$ unde fiecare linie reprezint\u0103 date pentru c\u00e2te un apartament din Portland Oregon;  prima coloan\u0103 reprezint\u0103 suprafa\u0163a, cea de-a doua reprezint\u0103 num\u0103rul de dormitoare iar cea de-a treia reprezint\u0103 pre\u0163ul. Am separat primele dou\u0103 coloane \u00eentr-o matrice $X_{date}$  iar coloana cu pre\u0163ul \u00eentr-o matrice coloan\u0103 $Y$."
     ]
    },
    {
     "cell_type": "code",
     "collapsed": false,
     "input": [
      "%matplotlib inline\n",
      "import matplotlib.pyplot as plt\n",
      "import numpy as np\n",
      "\n",
      "A = np.loadtxt(\"ex1datam2.txt\")\n",
      "Y = A[:,2]\n",
      "X_date = A[:,:-1]"
     ],
     "language": "python",
     "metadata": {},
     "outputs": [],
     "prompt_number": 2
    },
    {
     "cell_type": "markdown",
     "metadata": {},
     "source": [
      "Un triplet $(x_1, x_2, y)$ reprezinta un punct din $\\mathbb R^3$, fiind deci greu de vizualizat. Am reprezentat grafic in plan, doar\n",
      "perechile $(x_1,x_2)$ (suprafata, nr dormitoare)"
     ]
    },
    {
     "cell_type": "code",
     "collapsed": false,
     "input": [
      "plt.title('Datele')\n",
      "plt.xlabel('suprafata')\n",
      "plt.ylabel('Nr. de dormitoare')\n",
      "plt.scatter(X_date[:,0],X_date[:,1])"
     ],
     "language": "python",
     "metadata": {},
     "outputs": [
      {
       "metadata": {},
       "output_type": "pyout",
       "prompt_number": 3,
       "text": [
        "<matplotlib.collections.PathCollection at 0x51d9590>"
       ]
      },
      {
       "metadata": {},
       "output_type": "display_data",
       "png": "[encoded data removed]",
       "text": [
        "<matplotlib.figure.Figure at 0x50bfb70>"
       ]
      }
     ],
     "prompt_number": 3
    },
    {
     "cell_type": "markdown",
     "metadata": {},
     "source": [
      "Urmeaz\u0103 partea de regresie liniara. Ipoteza c\u0103 pre\u0163ul $y$ este de forma $h_{\\theta}(x)=\\theta_0 +\\theta_1 x_1+ \\theta_2 x_2=\\theta_0 x_0 +\\theta_1 x_1+ \\theta_2 x_2$ unde $\\theta_0 =1$, sau vectorial $h_\\theta(x)=<\\theta, x>$. \n",
      "Am concatenat o coloan\u0103 de 1 la matricea $X_{date}$ \u015fi am ob\u0163inut matricea $X$. Atunci, $\\Theta$ e solu\u0163ia sistemului normal $X^t X \\theta = X^t Y$, adic\u0103 $\\theta= (X^T X)^{-1}X^T Y$. Pe baza volorilor g\u0103site pentru $\\theta$, am estimat pre\u0163ul unui apartament de 1650 square feet \u015fi cu 3 dormitoare"
     ]
    },
    {
     "cell_type": "code",
     "collapsed": false,
     "input": [
      "m = X_date.shape[0]\n",
      "unu = np.ones((m,1))\n",
      "X = np.column_stack(( unu, X_date))\n",
      "theta = np.dot(np.linalg.pinv(np.dot(np.transpose(X),X)),np.dot(np.transpose(X),Y))\n",
      "\n",
      "print \"theta din regresie este: \", theta\n",
      "print \"pretul pt 1650 sq ft si 3 br este: \", np.dot( [1, 1560, 3],np.transpose(theta))"
     ],
     "language": "python",
     "metadata": {},
     "outputs": [
      {
       "output_type": "stream",
       "stream": "stdout",
       "text": [
        "theta din regresie este:  [ 89597.90954355    139.21067402  -8738.01911255]\n",
        "pretul pt 1650 sq ft si 3 br este:  280552.503673\n"
       ]
      }
     ],
     "prompt_number": 4
    },
    {
     "cell_type": "markdown",
     "metadata": {},
     "source": [
      "Pentru a vizualiza datele, le reducem dimensiunea la date 1-dimensionale $Z$ astfel \u00eenc\u00e2tperechile $(z_i,y_i)$ vor reprezenta puncte din plan. Pentru reducerea dimensiunii, g\u0103sim descompunerea SVD a matricii $X_{date}$ (de dinainte de a ad\u0103uga o coloan\u0103 de 1). Liniile matricii $V$ reprezint\u0103 vectori proprii ortonorma\u0163i pentru matricea \"de covarian\u0163\u0103\" $M=X_{date}^T X_{date}$. Proiect\u0103m fieccare vector\n",
      "$(x_1,x_2)$ pe $Span(v_1)$ \u015fi ob\u0163inem datele 1-D din matricea $Z$."
     ]
    },
    {
     "cell_type": "code",
     "collapsed": false,
     "input": [
      "U, S, V = np.linalg.svd(X_date, full_matrices = 1)\n",
      "\n",
      "#datele reduse cu PCA\n",
      "Z_date = np.dot(V[0,:],np.transpose(X_date))\n",
      "Z = np.column_stack(( unu, Z_date))"
     ],
     "language": "python",
     "metadata": {},
     "outputs": [],
     "prompt_number": 5
    },
    {
     "cell_type": "markdown",
     "metadata": {},
     "source": [
      "Acum, putem reprezenta \u00een plan perechile $(z_i,y_i)$. Se vede c\u0103 pre\u0163urile $y_i$ depind aproximativ liniar de datele $z_i$ ce codific\u0103 at\u00e2t suprafa\u0163a c\u00e2t \u015fi num\u0103rul de dormitoare."
     ]
    },
    {
     "cell_type": "code",
     "collapsed": false,
     "input": [
      "plt.title('Datele reduse')\n",
      "plt.xlabel('date')\n",
      "plt.ylabel('pret')\n",
      "plt.scatter(Z_date,Y)"
     ],
     "language": "python",
     "metadata": {},
     "outputs": [
      {
       "metadata": {},
       "output_type": "pyout",
       "prompt_number": 6,
       "text": [
        "<matplotlib.collections.PathCollection at 0x5242af0>"
       ]
      },
      {
       "metadata": {},
       "output_type": "display_data",
       "png": "[encoded data removed]",
       "text": [
        "<matplotlib.figure.Figure at 0x2c78770>"
       ]
      }
     ],
     "prompt_number": 6
    },
    {
     "cell_type": "markdown",
     "metadata": {},
     "source": [
      "Repet\u0103m partea de regresie cu datele reduse, g\u0103sim dreapta de regresie \u015fi apoi pre\u0163ul unui apartament de 1650 square feet \u015fi 3 bedroom, care de\u015fi e ob\u0163inut cu datele reduse, nu difer\u0103 foarte tare de cel g\u0103sit cu datele complete"
     ]
    },
    {
     "cell_type": "code",
     "collapsed": false,
     "input": [
      "theta2 = np.dot(np.linalg.pinv(np.dot(np.transpose(Z),Z)),np.dot(np.transpose(Z),Y))\n",
      "print \"theta din regresia cu date reduse este: \", theta2\n",
      "Z_imput = np.dot(V[0,:],np.transpose([1560, 3]))\n",
      "print \"pretul pt 1650 sq ft si 3 br este: \", theta2[0] + theta2[1]*Z_imput"
     ],
     "language": "python",
     "metadata": {},
     "outputs": [
      {
       "output_type": "stream",
       "stream": "stdout",
       "text": [
        "theta din regresia cu date reduse este:  [ 71270.1008123    -134.52531591]\n",
        "pretul pt 1650 sq ft si 3 br este:  281129.957633\n"
       ]
      }
     ],
     "prompt_number": 7
    },
    {
     "cell_type": "code",
     "collapsed": false,
     "input": [
      "plt.title('Datele reduse')\n",
      "plt.xlabel('date')\n",
      "plt.ylabel('pret')\n",
      "plt.scatter(Z_date,Y)\n",
      "plt.plot(Z_date,  theta2[0] + theta2[1]*Z_date, color ='r' )"
     ],
     "language": "python",
     "metadata": {},
     "outputs": [
      {
       "metadata": {},
       "output_type": "pyout",
       "prompt_number": 8,
       "text": [
        "[<matplotlib.lines.Line2D at 0x54b9c50>]"
       ]
      },
      {
       "metadata": {},
       "output_type": "display_data",
       "png": "[encoded data removed]",
       "text": [
        "<matplotlib.figure.Figure at 0x526f810>"
       ]
      }
     ],
     "prompt_number": 8
    }
   ],
   "metadata": {}
  }
 ]
}